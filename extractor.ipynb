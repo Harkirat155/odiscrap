{
 "cells": [
  {
   "cell_type": "code",
   "execution_count": null,
   "metadata": {},
   "outputs": [],
   "source": [
    "# #Collector\n",
    "\n",
    "# import scrapy\n",
    "\n",
    "\n",
    "# class PlayerSpider(scrapy.Spider):\n",
    "#     name = 'player'\n",
    "#     codes=[\n",
    "#         2,25,1,6,5,7,3,8,4,9,\n",
    "#         40,19,29,20,30,27,21,104,41,111,108,42,115,\n",
    "#         12,112,116,117,118,114,43,17,39,44,121,122,\n",
    "#         4082,123,125,126,13,129,4251,10,131,33,133,\n",
    "#         35,135,18,137,1094,142,148,147,22,31,36,4083,\n",
    "#         26,38,159,161,169,16,164,45,165,171,6411,28,32,\n",
    "#         15,173,175,37,183,178,179,185,187,191,192,154,\n",
    "#         194,196,23,197,195,200,201,202,4253,204,205,211,\n",
    "#         207,209,206,34,11,216,215,24,48\n",
    "#     ]\n",
    "#     classes=2\n",
    "#     start_urls=[]\n",
    "#     for code in codes:\n",
    "#         start_urls.append('http://www.espncricinfo.com/ci/content/player/caps.html?country={codeem};class={classem}'.format(codeem=code, classem=classes)) \n",
    "\n",
    "#     def parse(self, response):\n",
    "#         for player in response.css('li.sep'):\n",
    "#             yield {\n",
    "#                 'text': player.css('a.ColumnistSmry::text').get(),\n",
    "#                 'link': player.css('a.ColumnistSmry::attr(\"href\")').get(),\n",
    "#             }\n",
    "\n",
    "\n"
   ]
  },
  {
   "cell_type": "code",
   "execution_count": null,
   "metadata": {},
   "outputs": [],
   "source": [
    "#extractor\n",
    "\n",
    "import json\n",
    "import requests\n",
    "from bs4 import BeautifulSoup"
   ]
  },
  {
   "cell_type": "code",
   "execution_count": null,
   "metadata": {},
   "outputs": [],
   "source": [
    "readLink = []\n",
    "with open(\"player.json\", \"r\") as read_file:\n",
    "    readLink = json.load(read_file)\n",
    "\n",
    "start_urls=[]\n",
    "player_names=[]\n",
    "\n",
    "for link in readLink:\n",
    "    dia = link['link']\n",
    "    dia = dia[12:]\n",
    "    start_urls.append('http://stats.espncricinfo.com/ci/engine/{val}?class=2;template=results;type=batting'.format(val = dia)) \n",
    "    player_names.append(link['text'])"
   ]
  },
  {
   "cell_type": "code",
   "execution_count": null,
   "metadata": {},
   "outputs": [],
   "source": [
    "def check(runs):\n",
    "    try:\n",
    "        int(runs)\n",
    "    except:\n",
    "        return 'error'\n",
    "\n",
    "def detcall(url):\n",
    "    r = requests.get(url)\n",
    "    soup = BeautifulSoup(r.text, 'html.parser')\n",
    "    results = soup.find_all('table', attrs={'class': 'engineTable'})\n",
    "    result2= results[3].find_all('tbody')\n",
    "    result3=result2[4].find_all('tr', attrs={'class': 'data1'})\n",
    "    \n",
    "\n",
    "    #check year\n",
    "    yearres=str(result3[1].find('b').text)\n",
    "    if('year' not in yearres):\n",
    "        result3=result2[5].find_all('tr', attrs={'class': 'data1'})\n",
    "    \n",
    "    result3=result3[1:]\n",
    "\n",
    "    #check run\n",
    "    siblingres=[]\n",
    "    for sibling in result3[0].td.next_siblings:\n",
    "        siblingres.append(repr(sibling))\n",
    "#    print(siblingres)\n",
    "    runyeartagind=9\n",
    "#    print(runyeartagind)\n",
    "    runyeartag=siblingres[runyeartagind]\n",
    "    start=runyeartag.find('<td>')\n",
    "    end=runyeartag.find('</td>')\n",
    "    runsres=runyeartag[start+4: end]\n",
    "    if (check(runsres) == 'error'):\n",
    "        runyeartagind=7\n",
    "#        print('changed',runyeartagind)\n",
    "\n",
    "    dictres={}\n",
    "    for res in result3:\n",
    "        #find year\n",
    "        yearres=str(res.find('b').text)\n",
    "        # print(yearres)\n",
    "        # if('year' not in yearres):\n",
    "        #     return {}\n",
    "        \n",
    "        #find runs in that year\n",
    "        siblingres=[]\n",
    "        for sibling in res.td.next_siblings:\n",
    "            siblingres.append(repr(sibling))\n",
    "        runyeartag=siblingres[runyeartagind]\n",
    "        start=runyeartag.find('<td>')\n",
    "        end=runyeartag.find('</td>')\n",
    "        runsres=runyeartag[start+4: end]\n",
    "        #add result found to the result dictionary\n",
    "        if('nowrap' in runsres):\n",
    "            runsres='0'\n",
    "        dictres[yearres]=runsres\n",
    "\n",
    "    return dictres\n"
   ]
  },
  {
   "cell_type": "code",
   "execution_count": null,
   "metadata": {},
   "outputs": [],
   "source": [
    "final_res={}\n",
    "\n",
    "# for i in range(len(player_names)):\n",
    "#     print(player_names[i], start_urls[i], i)\n",
    "#     detrun=detcall(start_urls[i])\n",
    "#     print(player_names[i], detrun)\n",
    "#     final_res[player_names[i]]=detrun"
   ]
  },
  {
   "cell_type": "code",
   "execution_count": null,
   "metadata": {},
   "outputs": [],
   "source": [
    "with open(\"finalresfile.json\", \"w\") as write_file:\n",
    "    json.dump(final_res, write_file)"
   ]
  },
  {
   "cell_type": "code",
   "execution_count": null,
   "metadata": {},
   "outputs": [],
   "source": []
  },
  {
   "cell_type": "code",
   "execution_count": null,
   "metadata": {},
   "outputs": [],
   "source": []
  }
 ],
 "metadata": {
  "kernelspec": {
   "display_name": "Python 2",
   "language": "python",
   "name": "python2"
  },
  "language_info": {
   "codemirror_mode": {
    "name": "ipython",
    "version": 2
   },
   "file_extension": ".py",
   "mimetype": "text/x-python",
   "name": "python",
   "nbconvert_exporter": "python",
   "pygments_lexer": "ipython2",
   "version": "2.7.16"
  }
 },
 "nbformat": 4,
 "nbformat_minor": 2
}
